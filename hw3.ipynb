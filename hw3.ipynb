{
 "cells": [
  {
   "cell_type": "code",
   "execution_count": 1,
   "metadata": {},
   "outputs": [],
   "source": [
    "%matplotlib inline\n",
    "\n",
    "import torch\n",
    "import torchvision\n",
    "from torch.utils.data import Dataset, DataLoader\n",
    "from torchvision import transforms as transforms\n",
    "from torch.autograd import Variable\n",
    "import torch.nn.functional as F\n",
    "\n",
    "\n",
    "import matplotlib.pyplot as plt\n",
    "import numpy as np\n",
    "\n",
    "import torch.nn as nn\n",
    "import torch.optim as optim\n",
    "import cv2\n",
    "\n",
    "from LFWDataset import LFWDataset\n",
    "from SiameseNet import SiameseNet"
   ]
  },
  {
   "cell_type": "code",
   "execution_count": null,
   "metadata": {},
   "outputs": [],
   "source": [
    "from torch.utils.data import Dataset, DataLoader\n",
    "from PIL import Image\n",
    "import os\n",
    "class LFWDataset(Dataset):\n",
    "    \n",
    "    \"\"\"Faces in the wild dataset.\"\"\"\n",
    "\n",
    "    def __init__(self, root_dir='lfw/', train=False, test=False, transform=None):\n",
    "        self.train = train\n",
    "        self.test = test\n",
    "        self.root_dir = root_dir\n",
    "        self.files = []\n",
    "        self.labels = []\n",
    "        self.transform = transform\n",
    "        \n",
    "        if (self.train and self.test) or not (self.train or self.test):\n",
    "            raise ValueError('Exactly one of train and test must be set.')\n",
    "        \n",
    "        \"\"\"\n",
    "        Getting Train/Test splits\n",
    "        \"\"\"\n",
    "        dataset = set()\n",
    "        if self.train:\n",
    "            filename='train.txt'\n",
    "        else:\n",
    "            filename='test.txt'\n",
    "\n",
    "        with open(filename) as f:\n",
    "            for line in f:\n",
    "                line = line.split()\n",
    "                self.files.append(line[:2])\n",
    "                self.labels.append(int(line[2]))\n",
    "                \n",
    "        #print(self.files)\n",
    "    \n",
    "    def __len__(self):\n",
    "        return len(self.files)\n",
    "#         return sum([len(files) for r, d, files in os.walk(self.root_dir)])\n",
    "#         https://stackoverflow.com/questions/16910330/return-number-of-files-in-directory-and-subdirectory\n",
    "\n",
    "    def __getitem__(self, idx):\n",
    "        im_names = self.files[idx]\n",
    "        im1 = Image.open(os.path.join(self.root_dir, im_names[0]))\n",
    "        im2 = Image.open(os.path.join(self.root_dir, im_names[1]))\n",
    "        label = self.labels[idx]\n",
    "        \n",
    "        if self.transform:\n",
    "            im1 = self.transform(im1)\n",
    "            im2 = self.transform(im2)\n",
    "            \n",
    "        return im1, im2, label"
   ]
  },
  {
   "cell_type": "code",
   "execution_count": null,
   "metadata": {},
   "outputs": [],
   "source": [
    "from torch.autograd import Variable\n",
    "import torch.nn as nn\n",
    "import torch.nn.functional as F\n",
    "\n",
    "class SiameseNet(nn.Module):\n",
    "\n",
    "    def __init__(self):\n",
    "        super(SiameseNet, self).__init__()\n",
    "        self.cnn = nn.Sequential(\n",
    "            nn.Conv2d(3, 64, 5, stride=(1,1), padding=2),\n",
    "            nn.ReLU(inplace=True),\n",
    "            nn.BatchNorm2d(64),\n",
    "            nn.MaxPool2d((2,2), stride=(2,2)),\n",
    "            \n",
    "            nn.Conv2d(64, 128, 5, stride=(1,1), padding=2),\n",
    "            nn.ReLU(inplace=True),\n",
    "            nn.BatchNorm2d(128),\n",
    "            nn.MaxPool2d((2,2), stride=(2,2)),\n",
    "            \n",
    "            nn.Conv2d(128, 256, 3, stride=(1,1), padding=1),\n",
    "            nn.ReLU(inplace=True),\n",
    "            nn.BatchNorm2d(256),\n",
    "            nn.MaxPool2d((2,2), stride=(2,2)),\n",
    "            \n",
    "            nn.Conv2d(256, 512, 3, stride=(1,1), padding=1),\n",
    "            nn.ReLU(inplace=True),\n",
    "            nn.BatchNorm2d(512)\n",
    "        )\n",
    "        \n",
    "        self.fc1 = nn.Sequential(\n",
    "            nn.Linear(512 * 16 * 16, 1024),\n",
    "            nn.ReLU(inplace=True),\n",
    "            nn.BatchNorm2d(1024)\n",
    "        )\n",
    "        \n",
    "        self.fc2 = nn.Sequential(\n",
    "            nn.Linear(2*1024, 1),\n",
    "            nn.Sigmoid()\n",
    "        )\n",
    "\n",
    "    def forward_once(self, x):\n",
    "        output = self.cnn(x)\n",
    "        #flatten\n",
    "        output = output.view(output.size()[0], -1)\n",
    "        output = self.fc1(output)\n",
    "        return output        \n",
    "\n",
    "    def forward(self, input1, input2):\n",
    "        f1 = self.forward_once(input1)\n",
    "        f2 = self.forward_once(input2)\n",
    "#         print(f1, f2)\n",
    "        output = self.fc2(torch.cat((f1, f2), 1))\n",
    "        return output\n"
   ]
  },
  {
   "cell_type": "code",
   "execution_count": null,
   "metadata": {},
   "outputs": [],
   "source": [
    "%matplotlib inline\n",
    "def show(img, filename=None, save=False):\n",
    "    npimg = img.numpy()\n",
    "    plt.axis(\"off\")\n",
    "    plt.imshow(np.transpose(npimg, (1,2,0)), interpolation='nearest')\n",
    "    plt.show()\n",
    "    \n",
    "    if save and filename is not None:\n",
    "        plt.savefig(filename)\n",
    "\n",
    "def show_plot(iteration,loss):\n",
    "    plt.plot(iteration,loss)\n",
    "    plt.xlabel(\"Iterations\")\n",
    "    plt.ylabel(\"Loss\")\n",
    "    plt.show()"
   ]
  },
  {
   "cell_type": "code",
   "execution_count": 10,
   "metadata": {},
   "outputs": [],
   "source": [
    "trainset = LFWDataset(train=True,\n",
    "                      transform=transforms.Compose([transforms.Scale((128,128)),\n",
    "                                                                      transforms.ToTensor()\n",
    "                                                                      ]))\n",
    "trainloader = DataLoader(trainset, batch_size=8, shuffle=True, num_workers=2)\n",
    "\n",
    "\n"
   ]
  },
  {
   "cell_type": "code",
   "execution_count": null,
   "metadata": {},
   "outputs": [],
   "source": [
    "# vis_dataloader = DataLoader(trainset,\n",
    "#                         shuffle=True,\n",
    "#                         num_workers=8,\n",
    "#                         batch_size=8)\n",
    "# dataiter = iter(vis_dataloader)\n",
    "\n",
    "# example_batch = next(dataiter)\n",
    "# concatenated = torch.cat((example_batch[0],example_batch[1]),0)\n",
    "\n",
    "# show(torchvision.utils.make_grid(concatenated))\n",
    "# print(example_batch[2].numpy())"
   ]
  },
  {
   "cell_type": "code",
   "execution_count": 2,
   "metadata": {},
   "outputs": [],
   "source": [
    "net = SiameseNet().cuda()\n",
    "criterion = nn.BCELoss()\n",
    "learning_rate = 1e-6\n",
    "optimizer = optim.Adam(net.parameters(), lr=learning_rate)"
   ]
  },
  {
   "cell_type": "code",
   "execution_count": null,
   "metadata": {},
   "outputs": [],
   "source": [
    "print(net)"
   ]
  },
  {
   "cell_type": "code",
   "execution_count": null,
   "metadata": {},
   "outputs": [],
   "source": [
    "counter = []\n",
    "loss_history = [] \n",
    "iteration_number= 0\n",
    "epochs = 30"
   ]
  },
  {
   "cell_type": "code",
   "execution_count": null,
   "metadata": {
    "scrolled": true
   },
   "outputs": [],
   "source": [
    "for epoch in range(epochs):\n",
    "    for i, data in enumerate(trainloader,0):\n",
    "        img0, img1 , label = data\n",
    "        if i==0:\n",
    "            concat = torch.cat((img0, img1), 0)\n",
    "            print(concat.shape)\n",
    "            grid = torchvision.utils.make_grid(concat)\n",
    "            im = transforms.ToPILImage()(grid)\n",
    "            plt.figure(figsize=(12,15))\n",
    "            plt.imshow(im)\n",
    "            plt.show()\n",
    "#             im.save(\"output.png\")\n",
    "        img0, img1 , label = Variable(img0).cuda(), Variable(img1).cuda() , Variable(label).cuda()\n",
    "        output = net(img0,img1)\n",
    "        label = label.unsqueeze(1).float()\n",
    "        if i==0:\n",
    "            print(output, label)\n",
    "        \n",
    "        optimizer.zero_grad()\n",
    "        loss = criterion(output, label)\n",
    "        loss.backward()\n",
    "        optimizer.step()\n",
    "        if i %10 == 0 :\n",
    "            print(\"Epoch number {}\\n Current loss {}\\n\".format(epoch,loss.data[0]))\n",
    "            iteration_number +=10\n",
    "            counter.append(iteration_number)\n",
    "            loss_history.append(loss.data[0])"
   ]
  },
  {
   "cell_type": "code",
   "execution_count": null,
   "metadata": {},
   "outputs": [],
   "source": [
    "show_plot(counter,loss_history)"
   ]
  },
  {
   "cell_type": "code",
   "execution_count": null,
   "metadata": {},
   "outputs": [],
   "source": [
    "torch.save(net.state_dict(), \"model\")"
   ]
  },
  {
   "cell_type": "code",
   "execution_count": 5,
   "metadata": {},
   "outputs": [],
   "source": [
    "testset = LFWDataset(test=True,\n",
    "                     transform=transforms.Compose([transforms.Scale((128, 128)),\n",
    "                                                                      transforms.ToTensor()\n",
    "                                                                      ]))\n",
    "testloader = DataLoader(testset, batch_size=8, shuffle=True, num_workers=2)"
   ]
  },
  {
   "cell_type": "code",
   "execution_count": 6,
   "metadata": {},
   "outputs": [],
   "source": [
    "net.load_state_dict(torch.load('p1ai'))"
   ]
  },
  {
   "cell_type": "code",
   "execution_count": 11,
   "metadata": {},
   "outputs": [],
   "source": [
    "right=wrong=0.\n",
    "\n",
    "for i, data in enumerate(testloader,0):\n",
    "    img0, img1, label = data    \n",
    "    img0, img1, label = Variable(img0).cuda(), Variable(img1).cuda(), Variable(label).cuda()\n",
    "    \n",
    "    output = net(img0,img1)\n",
    "    for x,y in zip(output, label):\n",
    "#         print(x.data[0], y.data[0])\n",
    "        if (x.data[0]<=0.5 and y.data[0]==0) or (x.data[0]>0.5 and y.data[0]==1):\n",
    "            right+=1\n",
    "        else:\n",
    "            wrong+=1\n",
    "            "
   ]
  },
  {
   "cell_type": "code",
   "execution_count": 12,
   "metadata": {},
   "outputs": [
    {
     "name": "stdout",
     "output_type": "stream",
     "text": [
      "Accuracy on test set: 0.55\n"
     ]
    }
   ],
   "source": [
    "#     print(right, wrong)\n",
    "testacc = right/(right+wrong)\n",
    "print(\"Accuracy on test set: {:.2f}\".format(testacc))"
   ]
  },
  {
   "cell_type": "code",
   "execution_count": 13,
   "metadata": {},
   "outputs": [],
   "source": [
    "right=wrong=0.\n",
    "\n",
    "for i, data in enumerate(trainloader,0):\n",
    "    img0, img1, label = data    \n",
    "    img0, img1, label = Variable(img0).cuda(), Variable(img1).cuda(), Variable(label).cuda()\n",
    "    \n",
    "    output = net(img0,img1)\n",
    "    for x,y in zip(output, label):\n",
    "#         print(x.data[0], y.data[0])\n",
    "        if (x.data[0]<=0.5 and y.data[0]==0) or (x.data[0]>0.5 and y.data[0]==1):\n",
    "            right+=1\n",
    "        else:\n",
    "            wrong+=1\n",
    "            "
   ]
  },
  {
   "cell_type": "code",
   "execution_count": 14,
   "metadata": {},
   "outputs": [
    {
     "name": "stdout",
     "output_type": "stream",
     "text": [
      "Accuracy on train set: 0.99\n"
     ]
    }
   ],
   "source": [
    "#     print(right, wrong)\n",
    "trainacc = right/(right+wrong)\n",
    "print(\"Accuracy on train set: {:.2f}\".format(trainacc))"
   ]
  },
  {
   "cell_type": "code",
   "execution_count": null,
   "metadata": {},
   "outputs": [],
   "source": []
  },
  {
   "cell_type": "code",
   "execution_count": null,
   "metadata": {},
   "outputs": [],
   "source": [
    "class ContrastiveLoss(torch.nn.Module):\n",
    "    \"\"\"\n",
    "    Contrastive loss function.\n",
    "    Based on: http://yann.lecun.com/exdb/publis/pdf/hadsell-chopra-lecun-06.pdf\n",
    "    \"\"\"\n",
    "\n",
    "    def __init__(self, margin=2.0):\n",
    "        super(ContrastiveLoss, self).__init__()\n",
    "        self.margin = margin\n",
    "\n",
    "    def forward(self, output1, output2, label):\n",
    "        euclidean_distance = F.pairwise_distance(output1, output2)\n",
    "        loss_contrastive = torch.mean((1-label) * torch.pow(euclidean_distance, 2) +\n",
    "                                      (label) * torch.pow(torch.clamp(self.margin - euclidean_distance, min=0.0), 2))\n",
    "\n",
    "\n",
    "        return loss_contrastive"
   ]
  },
  {
   "cell_type": "code",
   "execution_count": null,
   "metadata": {},
   "outputs": [],
   "source": []
  },
  {
   "cell_type": "code",
   "execution_count": null,
   "metadata": {},
   "outputs": [],
   "source": []
  },
  {
   "cell_type": "code",
   "execution_count": null,
   "metadata": {},
   "outputs": [],
   "source": [
    "m = nn.Sigmoid()\n",
    "loss = nn.BCELoss()\n",
    "input = torch.autograd.Variable(torch.randn(3), requires_grad=True)\n",
    "target = torch.autograd.Variable(torch.FloatTensor(3).random_(2))\n",
    "print(input, target)\n",
    "output = loss(m(input), target)\n",
    "output.backward()"
   ]
  },
  {
   "cell_type": "code",
   "execution_count": null,
   "metadata": {},
   "outputs": [],
   "source": []
  }
 ],
 "metadata": {
  "kernelspec": {
   "display_name": "Python 2",
   "language": "python",
   "name": "python2"
  },
  "language_info": {
   "codemirror_mode": {
    "name": "ipython",
    "version": 2
   },
   "file_extension": ".py",
   "mimetype": "text/x-python",
   "name": "python",
   "nbconvert_exporter": "python",
   "pygments_lexer": "ipython2",
   "version": "2.7.12"
  }
 },
 "nbformat": 4,
 "nbformat_minor": 2
}
